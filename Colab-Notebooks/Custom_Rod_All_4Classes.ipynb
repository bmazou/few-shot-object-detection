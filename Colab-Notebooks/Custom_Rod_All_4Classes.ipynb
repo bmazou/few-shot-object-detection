{
  "cells": [
    {
      "cell_type": "code",
      "execution_count": 1,
      "metadata": {
        "colab": {
          "base_uri": "https://localhost:8080/"
        },
        "id": "8A1QTpWHAnNa",
        "outputId": "f24798fc-274c-45d2-ac04-92a94e60fe57"
      },
      "outputs": [
        {
          "output_type": "stream",
          "name": "stdout",
          "text": [
            "GPU 0: Tesla P100-PCIE-16GB (UUID: GPU-7ba2c7d1-a1da-0546-c035-359019b33c05)\n"
          ]
        }
      ],
      "source": [
        "!nvidia-smi -L"
      ]
    },
    {
      "cell_type": "code",
      "source": [
        "from google.colab import drive\n",
        "drive.mount('/content/gdrive')"
      ],
      "metadata": {
        "colab": {
          "base_uri": "https://localhost:8080/"
        },
        "id": "D3AJJVbYFO9a",
        "outputId": "70f05d8a-1270-4547-dac4-cdadd568bf5f"
      },
      "execution_count": 2,
      "outputs": [
        {
          "output_type": "stream",
          "name": "stdout",
          "text": [
            "Mounted at /content/gdrive\n"
          ]
        }
      ]
    },
    {
      "cell_type": "code",
      "execution_count": 3,
      "metadata": {
        "colab": {
          "base_uri": "https://localhost:8080/"
        },
        "id": "AWt7gRy4bxFg",
        "outputId": "b307ad69-e022-4d09-c304-3203d64811bd"
      },
      "outputs": [
        {
          "output_type": "stream",
          "name": "stdout",
          "text": [
            "Cloning into 'custom_fsdet'...\n",
            "remote: Enumerating objects: 2508, done.\u001b[K\n",
            "remote: Counting objects: 100% (31/31), done.\u001b[K\n",
            "remote: Compressing objects: 100% (31/31), done.\u001b[K\n",
            "remote: Total 2508 (delta 10), reused 0 (delta 0), pack-reused 2477\u001b[K\n",
            "Receiving objects: 100% (2508/2508), 747.51 MiB | 10.65 MiB/s, done.\n",
            "Resolving deltas: 100% (179/179), done.\n",
            "/content/custom_fsdet\n"
          ]
        }
      ],
      "source": [
        "!git clone https://gitlab.mff.cuni.cz/mazoureb/custom_fsdet.git\n",
        "%cd custom_fsdet/"
      ]
    },
    {
      "cell_type": "code",
      "execution_count": 4,
      "metadata": {
        "colab": {
          "base_uri": "https://localhost:8080/"
        },
        "id": "zC5xqPGqe6Qi",
        "outputId": "caeee3d3-7310-4e9d-b6a1-0f9aa57a75b2"
      },
      "outputs": [
        {
          "output_type": "stream",
          "name": "stdout",
          "text": [
            "Looking in indexes: https://pypi.org/simple, https://us-python.pkg.dev/colab-wheels/public/simple/\n",
            "Collecting torch==1.6.0\n",
            "  Downloading torch-1.6.0-cp37-cp37m-manylinux1_x86_64.whl (748.8 MB)\n",
            "\u001b[K     |████████████████████████████████| 748.8 MB 17 kB/s \n",
            "\u001b[?25hCollecting torchvision==0.7.0\n",
            "  Downloading torchvision-0.7.0-cp37-cp37m-manylinux1_x86_64.whl (5.9 MB)\n",
            "\u001b[K     |████████████████████████████████| 5.9 MB 21.1 MB/s \n",
            "\u001b[?25hRequirement already satisfied: future in /usr/local/lib/python3.7/dist-packages (from torch==1.6.0) (0.16.0)\n",
            "Requirement already satisfied: numpy in /usr/local/lib/python3.7/dist-packages (from torch==1.6.0) (1.21.6)\n",
            "Requirement already satisfied: pillow>=4.1.1 in /usr/local/lib/python3.7/dist-packages (from torchvision==0.7.0) (7.1.2)\n",
            "Installing collected packages: torch, torchvision\n",
            "  Attempting uninstall: torch\n",
            "    Found existing installation: torch 1.12.0+cu113\n",
            "    Uninstalling torch-1.12.0+cu113:\n",
            "      Successfully uninstalled torch-1.12.0+cu113\n",
            "  Attempting uninstall: torchvision\n",
            "    Found existing installation: torchvision 0.13.0+cu113\n",
            "    Uninstalling torchvision-0.13.0+cu113:\n",
            "      Successfully uninstalled torchvision-0.13.0+cu113\n",
            "\u001b[31mERROR: pip's dependency resolver does not currently take into account all the packages that are installed. This behaviour is the source of the following dependency conflicts.\n",
            "torchtext 0.13.0 requires torch==1.12.0, but you have torch 1.6.0 which is incompatible.\n",
            "torchaudio 0.12.0+cu113 requires torch==1.12.0, but you have torch 1.6.0 which is incompatible.\n",
            "fastai 2.7.7 requires torch<1.13,>=1.7, but you have torch 1.6.0 which is incompatible.\n",
            "fastai 2.7.7 requires torchvision>=0.8.2, but you have torchvision 0.7.0 which is incompatible.\u001b[0m\n",
            "Successfully installed torch-1.6.0 torchvision-0.7.0\n"
          ]
        }
      ],
      "source": [
        "!pip install torch==1.6.0 torchvision==0.7.0"
      ]
    },
    {
      "cell_type": "code",
      "execution_count": 5,
      "metadata": {
        "colab": {
          "base_uri": "https://localhost:8080/"
        },
        "id": "wd2GQXC3fAVS",
        "outputId": "3cfb4890-3050-4166-fbe2-86fb510eebc8"
      },
      "outputs": [
        {
          "output_type": "stream",
          "name": "stdout",
          "text": [
            "Looking in indexes: https://pypi.org/simple, https://us-python.pkg.dev/colab-wheels/public/simple/\n",
            "Looking in links: https://dl.fbaipublicfiles.com/detectron2/wheels/cu102/torch1.6/index.html\n",
            "Collecting detectron2==0.3\n",
            "  Downloading https://dl.fbaipublicfiles.com/detectron2/wheels/cu102/torch1.6/detectron2-0.3%2Bcu102-cp37-cp37m-linux_x86_64.whl (6.6 MB)\n",
            "\u001b[K     |████████████████████████████████| 6.6 MB 5.0 MB/s \n",
            "\u001b[?25hRequirement already satisfied: future in /usr/local/lib/python3.7/dist-packages (from detectron2==0.3) (0.16.0)\n",
            "Requirement already satisfied: tensorboard in /usr/local/lib/python3.7/dist-packages (from detectron2==0.3) (2.8.0)\n",
            "Requirement already satisfied: cloudpickle in /usr/local/lib/python3.7/dist-packages (from detectron2==0.3) (1.3.0)\n",
            "Requirement already satisfied: tabulate in /usr/local/lib/python3.7/dist-packages (from detectron2==0.3) (0.8.10)\n",
            "Requirement already satisfied: termcolor>=1.1 in /usr/local/lib/python3.7/dist-packages (from detectron2==0.3) (1.1.0)\n",
            "Collecting fvcore>=0.1.2\n",
            "  Downloading fvcore-0.1.5.post20220512.tar.gz (50 kB)\n",
            "\u001b[K     |████████████████████████████████| 50 kB 3.9 MB/s \n",
            "\u001b[?25hRequirement already satisfied: Pillow>=7.1 in /usr/local/lib/python3.7/dist-packages (from detectron2==0.3) (7.1.2)\n",
            "Requirement already satisfied: tqdm>4.29.0 in /usr/local/lib/python3.7/dist-packages (from detectron2==0.3) (4.64.0)\n",
            "Requirement already satisfied: pycocotools>=2.0.2 in /usr/local/lib/python3.7/dist-packages (from detectron2==0.3) (2.0.4)\n",
            "Collecting yacs>=0.1.6\n",
            "  Downloading yacs-0.1.8-py3-none-any.whl (14 kB)\n",
            "Requirement already satisfied: matplotlib in /usr/local/lib/python3.7/dist-packages (from detectron2==0.3) (3.2.2)\n",
            "Requirement already satisfied: pydot in /usr/local/lib/python3.7/dist-packages (from detectron2==0.3) (1.3.0)\n",
            "Requirement already satisfied: numpy in /usr/local/lib/python3.7/dist-packages (from fvcore>=0.1.2->detectron2==0.3) (1.21.6)\n",
            "Collecting pyyaml>=5.1\n",
            "  Downloading PyYAML-6.0-cp37-cp37m-manylinux_2_5_x86_64.manylinux1_x86_64.manylinux_2_12_x86_64.manylinux2010_x86_64.whl (596 kB)\n",
            "\u001b[K     |████████████████████████████████| 596 kB 16.2 MB/s \n",
            "\u001b[?25hCollecting iopath>=0.1.7\n",
            "  Downloading iopath-0.1.10.tar.gz (42 kB)\n",
            "\u001b[K     |████████████████████████████████| 42 kB 903 kB/s \n",
            "\u001b[?25hRequirement already satisfied: typing_extensions in /usr/local/lib/python3.7/dist-packages (from iopath>=0.1.7->fvcore>=0.1.2->detectron2==0.3) (4.1.1)\n",
            "Collecting portalocker\n",
            "  Downloading portalocker-2.5.1-py2.py3-none-any.whl (15 kB)\n",
            "Requirement already satisfied: pyparsing!=2.0.4,!=2.1.2,!=2.1.6,>=2.0.1 in /usr/local/lib/python3.7/dist-packages (from matplotlib->detectron2==0.3) (3.0.9)\n",
            "Requirement already satisfied: cycler>=0.10 in /usr/local/lib/python3.7/dist-packages (from matplotlib->detectron2==0.3) (0.11.0)\n",
            "Requirement already satisfied: kiwisolver>=1.0.1 in /usr/local/lib/python3.7/dist-packages (from matplotlib->detectron2==0.3) (1.4.4)\n",
            "Requirement already satisfied: python-dateutil>=2.1 in /usr/local/lib/python3.7/dist-packages (from matplotlib->detectron2==0.3) (2.8.2)\n",
            "Requirement already satisfied: six>=1.5 in /usr/local/lib/python3.7/dist-packages (from python-dateutil>=2.1->matplotlib->detectron2==0.3) (1.15.0)\n",
            "Requirement already satisfied: absl-py>=0.4 in /usr/local/lib/python3.7/dist-packages (from tensorboard->detectron2==0.3) (1.2.0)\n",
            "Requirement already satisfied: setuptools>=41.0.0 in /usr/local/lib/python3.7/dist-packages (from tensorboard->detectron2==0.3) (57.4.0)\n",
            "Requirement already satisfied: wheel>=0.26 in /usr/local/lib/python3.7/dist-packages (from tensorboard->detectron2==0.3) (0.37.1)\n",
            "Requirement already satisfied: requests<3,>=2.21.0 in /usr/local/lib/python3.7/dist-packages (from tensorboard->detectron2==0.3) (2.23.0)\n",
            "Requirement already satisfied: google-auth-oauthlib<0.5,>=0.4.1 in /usr/local/lib/python3.7/dist-packages (from tensorboard->detectron2==0.3) (0.4.6)\n",
            "Requirement already satisfied: protobuf>=3.6.0 in /usr/local/lib/python3.7/dist-packages (from tensorboard->detectron2==0.3) (3.17.3)\n",
            "Requirement already satisfied: tensorboard-data-server<0.7.0,>=0.6.0 in /usr/local/lib/python3.7/dist-packages (from tensorboard->detectron2==0.3) (0.6.1)\n",
            "Requirement already satisfied: werkzeug>=0.11.15 in /usr/local/lib/python3.7/dist-packages (from tensorboard->detectron2==0.3) (1.0.1)\n",
            "Requirement already satisfied: markdown>=2.6.8 in /usr/local/lib/python3.7/dist-packages (from tensorboard->detectron2==0.3) (3.4.1)\n",
            "Requirement already satisfied: google-auth<3,>=1.6.3 in /usr/local/lib/python3.7/dist-packages (from tensorboard->detectron2==0.3) (1.35.0)\n",
            "Requirement already satisfied: tensorboard-plugin-wit>=1.6.0 in /usr/local/lib/python3.7/dist-packages (from tensorboard->detectron2==0.3) (1.8.1)\n",
            "Requirement already satisfied: grpcio>=1.24.3 in /usr/local/lib/python3.7/dist-packages (from tensorboard->detectron2==0.3) (1.47.0)\n",
            "Requirement already satisfied: rsa<5,>=3.1.4 in /usr/local/lib/python3.7/dist-packages (from google-auth<3,>=1.6.3->tensorboard->detectron2==0.3) (4.9)\n",
            "Requirement already satisfied: pyasn1-modules>=0.2.1 in /usr/local/lib/python3.7/dist-packages (from google-auth<3,>=1.6.3->tensorboard->detectron2==0.3) (0.2.8)\n",
            "Requirement already satisfied: cachetools<5.0,>=2.0.0 in /usr/local/lib/python3.7/dist-packages (from google-auth<3,>=1.6.3->tensorboard->detectron2==0.3) (4.2.4)\n",
            "Requirement already satisfied: requests-oauthlib>=0.7.0 in /usr/local/lib/python3.7/dist-packages (from google-auth-oauthlib<0.5,>=0.4.1->tensorboard->detectron2==0.3) (1.3.1)\n",
            "Requirement already satisfied: importlib-metadata>=4.4 in /usr/local/lib/python3.7/dist-packages (from markdown>=2.6.8->tensorboard->detectron2==0.3) (4.12.0)\n",
            "Requirement already satisfied: zipp>=0.5 in /usr/local/lib/python3.7/dist-packages (from importlib-metadata>=4.4->markdown>=2.6.8->tensorboard->detectron2==0.3) (3.8.1)\n",
            "Requirement already satisfied: pyasn1<0.5.0,>=0.4.6 in /usr/local/lib/python3.7/dist-packages (from pyasn1-modules>=0.2.1->google-auth<3,>=1.6.3->tensorboard->detectron2==0.3) (0.4.8)\n",
            "Requirement already satisfied: chardet<4,>=3.0.2 in /usr/local/lib/python3.7/dist-packages (from requests<3,>=2.21.0->tensorboard->detectron2==0.3) (3.0.4)\n",
            "Requirement already satisfied: urllib3!=1.25.0,!=1.25.1,<1.26,>=1.21.1 in /usr/local/lib/python3.7/dist-packages (from requests<3,>=2.21.0->tensorboard->detectron2==0.3) (1.24.3)\n",
            "Requirement already satisfied: idna<3,>=2.5 in /usr/local/lib/python3.7/dist-packages (from requests<3,>=2.21.0->tensorboard->detectron2==0.3) (2.10)\n",
            "Requirement already satisfied: certifi>=2017.4.17 in /usr/local/lib/python3.7/dist-packages (from requests<3,>=2.21.0->tensorboard->detectron2==0.3) (2022.6.15)\n",
            "Requirement already satisfied: oauthlib>=3.0.0 in /usr/local/lib/python3.7/dist-packages (from requests-oauthlib>=0.7.0->google-auth-oauthlib<0.5,>=0.4.1->tensorboard->detectron2==0.3) (3.2.0)\n",
            "Building wheels for collected packages: fvcore, iopath\n",
            "  Building wheel for fvcore (setup.py) ... \u001b[?25l\u001b[?25hdone\n",
            "  Created wheel for fvcore: filename=fvcore-0.1.5.post20220512-py3-none-any.whl size=61288 sha256=82ad48fbaaaccaf9d995c62b0f00f77a5c438a6ecf09d9269569ef57353afb19\n",
            "  Stored in directory: /root/.cache/pip/wheels/68/20/f9/a11a0dd63f4c13678b2a5ec488e48078756505c7777b75b29e\n",
            "  Building wheel for iopath (setup.py) ... \u001b[?25l\u001b[?25hdone\n",
            "  Created wheel for iopath: filename=iopath-0.1.10-py3-none-any.whl size=31549 sha256=f15bec776aacfd195165de4f14d4aa647d483c131c3d1a2c1afedf5475be4eb3\n",
            "  Stored in directory: /root/.cache/pip/wheels/aa/cc/ed/ca4e88beef656b01c84b9185196513ef2faf74a5a379b043a7\n",
            "Successfully built fvcore iopath\n",
            "Installing collected packages: pyyaml, portalocker, yacs, iopath, fvcore, detectron2\n",
            "  Attempting uninstall: pyyaml\n",
            "    Found existing installation: PyYAML 3.13\n",
            "    Uninstalling PyYAML-3.13:\n",
            "      Successfully uninstalled PyYAML-3.13\n",
            "\u001b[31mERROR: pip's dependency resolver does not currently take into account all the packages that are installed. This behaviour is the source of the following dependency conflicts.\n",
            "fastai 2.7.7 requires torch<1.13,>=1.7, but you have torch 1.6.0 which is incompatible.\n",
            "fastai 2.7.7 requires torchvision>=0.8.2, but you have torchvision 0.7.0 which is incompatible.\u001b[0m\n",
            "Successfully installed detectron2-0.3+cu102 fvcore-0.1.5.post20220512 iopath-0.1.10 portalocker-2.5.1 pyyaml-6.0 yacs-0.1.8\n"
          ]
        }
      ],
      "source": [
        "!python3 -m pip install detectron2==0.3 -f https://dl.fbaipublicfiles.com/detectron2/wheels/cu102/torch1.6/index.html"
      ]
    },
    {
      "cell_type": "code",
      "execution_count": 6,
      "metadata": {
        "colab": {
          "base_uri": "https://localhost:8080/"
        },
        "id": "8xuLCmPHfC_p",
        "outputId": "25465251-0503-4f19-dfad-bcb28ae65556"
      },
      "outputs": [
        {
          "output_type": "stream",
          "name": "stdout",
          "text": [
            "Looking in indexes: https://pypi.org/simple, https://us-python.pkg.dev/colab-wheels/public/simple/\n",
            "Requirement already satisfied: termcolor in /usr/local/lib/python3.7/dist-packages (from -r requirements.txt (line 1)) (1.1.0)\n",
            "Requirement already satisfied: numpy in /usr/local/lib/python3.7/dist-packages (from -r requirements.txt (line 2)) (1.21.6)\n",
            "Requirement already satisfied: tqdm in /usr/local/lib/python3.7/dist-packages (from -r requirements.txt (line 3)) (4.64.0)\n",
            "Requirement already satisfied: matplotlib in /usr/local/lib/python3.7/dist-packages (from -r requirements.txt (line 4)) (3.2.2)\n",
            "Requirement already satisfied: yacs in /usr/local/lib/python3.7/dist-packages (from -r requirements.txt (line 6)) (0.1.8)\n",
            "Requirement already satisfied: tabulate in /usr/local/lib/python3.7/dist-packages (from -r requirements.txt (line 7)) (0.8.10)\n",
            "Requirement already satisfied: cloudpickle in /usr/local/lib/python3.7/dist-packages (from -r requirements.txt (line 8)) (1.3.0)\n",
            "Requirement already satisfied: Pillow in /usr/local/lib/python3.7/dist-packages (from -r requirements.txt (line 9)) (7.1.2)\n",
            "Requirement already satisfied: imagesize in /usr/local/lib/python3.7/dist-packages (from -r requirements.txt (line 10)) (1.4.1)\n",
            "Requirement already satisfied: tensorboard in /usr/local/lib/python3.7/dist-packages (from -r requirements.txt (line 11)) (2.8.0)\n",
            "Requirement already satisfied: opencv-python in /usr/local/lib/python3.7/dist-packages (from -r requirements.txt (line 12)) (4.6.0.66)\n",
            "Collecting lvis\n",
            "  Downloading lvis-0.5.3-py3-none-any.whl (14 kB)\n",
            "Collecting fvcore==0.1.2.post20201213\n",
            "  Downloading fvcore-0.1.2.post20201213.tar.gz (32 kB)\n",
            "Requirement already satisfied: pyyaml>=5.1 in /usr/local/lib/python3.7/dist-packages (from fvcore==0.1.2.post20201213->-r requirements.txt (line 15)) (6.0)\n",
            "Requirement already satisfied: iopath>=0.1.2 in /usr/local/lib/python3.7/dist-packages (from fvcore==0.1.2.post20201213->-r requirements.txt (line 15)) (0.1.10)\n",
            "Requirement already satisfied: portalocker in /usr/local/lib/python3.7/dist-packages (from iopath>=0.1.2->fvcore==0.1.2.post20201213->-r requirements.txt (line 15)) (2.5.1)\n",
            "Requirement already satisfied: typing-extensions in /usr/local/lib/python3.7/dist-packages (from iopath>=0.1.2->fvcore==0.1.2.post20201213->-r requirements.txt (line 15)) (4.1.1)\n",
            "Requirement already satisfied: cycler>=0.10 in /usr/local/lib/python3.7/dist-packages (from matplotlib->-r requirements.txt (line 4)) (0.11.0)\n",
            "Requirement already satisfied: pyparsing!=2.0.4,!=2.1.2,!=2.1.6,>=2.0.1 in /usr/local/lib/python3.7/dist-packages (from matplotlib->-r requirements.txt (line 4)) (3.0.9)\n",
            "Requirement already satisfied: kiwisolver>=1.0.1 in /usr/local/lib/python3.7/dist-packages (from matplotlib->-r requirements.txt (line 4)) (1.4.4)\n",
            "Requirement already satisfied: python-dateutil>=2.1 in /usr/local/lib/python3.7/dist-packages (from matplotlib->-r requirements.txt (line 4)) (2.8.2)\n",
            "Requirement already satisfied: six>=1.5 in /usr/local/lib/python3.7/dist-packages (from python-dateutil>=2.1->matplotlib->-r requirements.txt (line 4)) (1.15.0)\n",
            "Requirement already satisfied: tensorboard-plugin-wit>=1.6.0 in /usr/local/lib/python3.7/dist-packages (from tensorboard->-r requirements.txt (line 11)) (1.8.1)\n",
            "Requirement already satisfied: protobuf>=3.6.0 in /usr/local/lib/python3.7/dist-packages (from tensorboard->-r requirements.txt (line 11)) (3.17.3)\n",
            "Requirement already satisfied: werkzeug>=0.11.15 in /usr/local/lib/python3.7/dist-packages (from tensorboard->-r requirements.txt (line 11)) (1.0.1)\n",
            "Requirement already satisfied: wheel>=0.26 in /usr/local/lib/python3.7/dist-packages (from tensorboard->-r requirements.txt (line 11)) (0.37.1)\n",
            "Requirement already satisfied: grpcio>=1.24.3 in /usr/local/lib/python3.7/dist-packages (from tensorboard->-r requirements.txt (line 11)) (1.47.0)\n",
            "Requirement already satisfied: setuptools>=41.0.0 in /usr/local/lib/python3.7/dist-packages (from tensorboard->-r requirements.txt (line 11)) (57.4.0)\n",
            "Requirement already satisfied: tensorboard-data-server<0.7.0,>=0.6.0 in /usr/local/lib/python3.7/dist-packages (from tensorboard->-r requirements.txt (line 11)) (0.6.1)\n",
            "Requirement already satisfied: google-auth<3,>=1.6.3 in /usr/local/lib/python3.7/dist-packages (from tensorboard->-r requirements.txt (line 11)) (1.35.0)\n",
            "Requirement already satisfied: markdown>=2.6.8 in /usr/local/lib/python3.7/dist-packages (from tensorboard->-r requirements.txt (line 11)) (3.4.1)\n",
            "Requirement already satisfied: requests<3,>=2.21.0 in /usr/local/lib/python3.7/dist-packages (from tensorboard->-r requirements.txt (line 11)) (2.23.0)\n",
            "Requirement already satisfied: absl-py>=0.4 in /usr/local/lib/python3.7/dist-packages (from tensorboard->-r requirements.txt (line 11)) (1.2.0)\n",
            "Requirement already satisfied: google-auth-oauthlib<0.5,>=0.4.1 in /usr/local/lib/python3.7/dist-packages (from tensorboard->-r requirements.txt (line 11)) (0.4.6)\n",
            "Requirement already satisfied: rsa<5,>=3.1.4 in /usr/local/lib/python3.7/dist-packages (from google-auth<3,>=1.6.3->tensorboard->-r requirements.txt (line 11)) (4.9)\n",
            "Requirement already satisfied: cachetools<5.0,>=2.0.0 in /usr/local/lib/python3.7/dist-packages (from google-auth<3,>=1.6.3->tensorboard->-r requirements.txt (line 11)) (4.2.4)\n",
            "Requirement already satisfied: pyasn1-modules>=0.2.1 in /usr/local/lib/python3.7/dist-packages (from google-auth<3,>=1.6.3->tensorboard->-r requirements.txt (line 11)) (0.2.8)\n",
            "Requirement already satisfied: requests-oauthlib>=0.7.0 in /usr/local/lib/python3.7/dist-packages (from google-auth-oauthlib<0.5,>=0.4.1->tensorboard->-r requirements.txt (line 11)) (1.3.1)\n",
            "Requirement already satisfied: importlib-metadata>=4.4 in /usr/local/lib/python3.7/dist-packages (from markdown>=2.6.8->tensorboard->-r requirements.txt (line 11)) (4.12.0)\n",
            "Requirement already satisfied: zipp>=0.5 in /usr/local/lib/python3.7/dist-packages (from importlib-metadata>=4.4->markdown>=2.6.8->tensorboard->-r requirements.txt (line 11)) (3.8.1)\n",
            "Requirement already satisfied: pyasn1<0.5.0,>=0.4.6 in /usr/local/lib/python3.7/dist-packages (from pyasn1-modules>=0.2.1->google-auth<3,>=1.6.3->tensorboard->-r requirements.txt (line 11)) (0.4.8)\n",
            "Requirement already satisfied: idna<3,>=2.5 in /usr/local/lib/python3.7/dist-packages (from requests<3,>=2.21.0->tensorboard->-r requirements.txt (line 11)) (2.10)\n",
            "Requirement already satisfied: chardet<4,>=3.0.2 in /usr/local/lib/python3.7/dist-packages (from requests<3,>=2.21.0->tensorboard->-r requirements.txt (line 11)) (3.0.4)\n",
            "Requirement already satisfied: certifi>=2017.4.17 in /usr/local/lib/python3.7/dist-packages (from requests<3,>=2.21.0->tensorboard->-r requirements.txt (line 11)) (2022.6.15)\n",
            "Requirement already satisfied: urllib3!=1.25.0,!=1.25.1,<1.26,>=1.21.1 in /usr/local/lib/python3.7/dist-packages (from requests<3,>=2.21.0->tensorboard->-r requirements.txt (line 11)) (1.24.3)\n",
            "Requirement already satisfied: oauthlib>=3.0.0 in /usr/local/lib/python3.7/dist-packages (from requests-oauthlib>=0.7.0->google-auth-oauthlib<0.5,>=0.4.1->tensorboard->-r requirements.txt (line 11)) (3.2.0)\n",
            "Requirement already satisfied: Cython>=0.29.12 in /usr/local/lib/python3.7/dist-packages (from lvis->-r requirements.txt (line 13)) (0.29.32)\n",
            "Building wheels for collected packages: fvcore\n",
            "  Building wheel for fvcore (setup.py) ... \u001b[?25l\u001b[?25hdone\n",
            "  Created wheel for fvcore: filename=fvcore-0.1.2.post20201213-py3-none-any.whl size=40709 sha256=a4f88a54a00ba0c4a93a009ec8b1b58dcef96419352e3e81f86a1bd7328ce6c2\n",
            "  Stored in directory: /root/.cache/pip/wheels/aa/d5/b2/56f0c1e8fdd229d4dee233deffc1e2f403c8544ccf266b407b\n",
            "Successfully built fvcore\n",
            "Installing collected packages: lvis, fvcore\n",
            "  Attempting uninstall: fvcore\n",
            "    Found existing installation: fvcore 0.1.5.post20220512\n",
            "    Uninstalling fvcore-0.1.5.post20220512:\n",
            "      Successfully uninstalled fvcore-0.1.5.post20220512\n",
            "Successfully installed fvcore-0.1.2.post20201213 lvis-0.5.3\n"
          ]
        }
      ],
      "source": [
        "!python3 -m pip install -r requirements.txt"
      ]
    },
    {
      "cell_type": "code",
      "source": [
        "!cp /content/gdrive/MyDrive/fsdet-v/Custom-Rod/model_reset_surgery_voc.pth ./"
      ],
      "metadata": {
        "id": "F_5ssMJNk41T"
      },
      "execution_count": 10,
      "outputs": []
    },
    {
      "cell_type": "markdown",
      "metadata": {
        "id": "neEV9uj3Y4Gh"
      },
      "source": [
        "### Few shot training"
      ]
    },
    {
      "cell_type": "code",
      "source": [
        "assert False"
      ],
      "metadata": {
        "colab": {
          "base_uri": "https://localhost:8080/",
          "height": 165
        },
        "id": "xjbOmn2iH0UK",
        "outputId": "448bacb5-3f5c-402e-a0d0-4eafd0d41abc"
      },
      "execution_count": 8,
      "outputs": [
        {
          "output_type": "error",
          "ename": "AssertionError",
          "evalue": "ignored",
          "traceback": [
            "\u001b[0;31m---------------------------------------------------------------------------\u001b[0m",
            "\u001b[0;31mAssertionError\u001b[0m                            Traceback (most recent call last)",
            "\u001b[0;32m<ipython-input-8-a871fdc9ebee>\u001b[0m in \u001b[0;36m<module>\u001b[0;34m()\u001b[0m\n\u001b[0;32m----> 1\u001b[0;31m \u001b[0;32massert\u001b[0m \u001b[0;32mFalse\u001b[0m\u001b[0;34m\u001b[0m\u001b[0;34m\u001b[0m\u001b[0m\n\u001b[0m",
            "\u001b[0;31mAssertionError\u001b[0m: "
          ]
        }
      ]
    },
    {
      "cell_type": "code",
      "execution_count": 11,
      "metadata": {
        "colab": {
          "base_uri": "https://localhost:8080/"
        },
        "id": "9v8AVi0-jtKV",
        "outputId": "502a5a94-68c5-4f41-de6f-3d4e09ba61bf"
      },
      "outputs": [
        {
          "output_type": "stream",
          "name": "stdout",
          "text": [
            "** fvcore version of PathManager will be deprecated soon. **\n",
            "** Please migrate to the version in iopath repo. **\n",
            "https://github.com/facebookresearch/iopath \n",
            "\n",
            "** fvcore version of PathManager will be deprecated soon. **\n",
            "** Please migrate to the version in iopath repo. **\n",
            "https://github.com/facebookresearch/iopath \n",
            "\n",
            "Command Line Args: Namespace(config_file='configs/Custom-Rod/custom_rod_train_all.yaml', dist_url='tcp://127.0.0.1:49152', end_iter=-1, eval_all=False, eval_during_train=False, eval_iter=-1, eval_only=False, machine_rank=0, num_gpus=1, num_machines=1, opts=['MODEL.WEIGHTS', './model_reset_surgery_voc.pth'], resume=False, start_iter=-1)\n",
            "\u001b[32m[08/11 07:20:04 detectron2]: \u001b[0mRank of current process: 0. World size: 1\n",
            "\u001b[32m[08/11 07:20:04 detectron2]: \u001b[0mCommand line arguments: Namespace(config_file='configs/Custom-Rod/custom_rod_train_all.yaml', dist_url='tcp://127.0.0.1:49152', end_iter=-1, eval_all=False, eval_during_train=False, eval_iter=-1, eval_only=False, machine_rank=0, num_gpus=1, num_machines=1, opts=['MODEL.WEIGHTS', './model_reset_surgery_voc.pth'], resume=False, start_iter=-1)\n",
            "\u001b[32m[08/11 07:20:04 detectron2]: \u001b[0mContents of args.config_file=configs/Custom-Rod/custom_rod_train_all.yaml:\n",
            "_BASE_: \"../Base-RCNN-FPN.yaml\"\n",
            "MODEL:\n",
            "  WEIGHTS: \"./model_reset_surgery.pth\"\n",
            "  MASK_ON: False\n",
            "  RESNETS:\n",
            "    DEPTH: 101\n",
            "  ROI_HEADS:\n",
            "    NUM_CLASSES: 4\n",
            "    OUTPUT_LAYER: \"CosineSimOutputLayers\"\n",
            "    FREEZE_FEAT: True\n",
            "  BACKBONE:\n",
            "    FREEZE: True\n",
            "  PROPOSAL_GENERATOR:\n",
            "    FREEZE: True\n",
            "DATASETS:\n",
            "# Implicitně se tady zatím bude brát, že ..._all trénuje s 10-shot\n",
            "  TRAIN: ('custom_rod_all',)\n",
            "  TEST: ('custom_rod_all',)\n",
            "SOLVER:\n",
            "  IMS_PER_BATCH: 16\n",
            "  BASE_LR: 0.001\n",
            "  STEPS: (14400,)\n",
            "  MAX_ITER: 16000\n",
            "  CHECKPOINT_PERIOD: 1000\n",
            "  WARMUP_ITERS: 10\n",
            "OUTPUT_DIR: \"/content/gdrive/MyDrive/fsdet-v/Custom-Rod\"\n",
            "\u001b[32m[08/11 07:20:04 detectron2]: \u001b[0mFull config saved to /content/gdrive/MyDrive/fsdet-v/Custom-Rod/config.yaml\n",
            "\u001b[32m[08/11 07:20:04 d2.utils.env]: \u001b[0mUsing a generated random seed 4973464\n",
            "froze backbone parameters\n",
            "froze proposal generator parameters\n",
            "froze roi_box_head parameters\n",
            "\u001b[32m[08/11 07:20:08 d2.data.build]: \u001b[0mRemoved 0 images with no usable annotations. 16 images left.\n",
            "\u001b[32m[08/11 07:20:08 d2.data.build]: \u001b[0mDistribution of instances among all 4 categories:\n",
            "\u001b[36m|  category  | #instances   |  category  | #instances   |  category  | #instances   |\n",
            "|:----------:|:-------------|:----------:|:-------------|:----------:|:-------------|\n",
            "|    car     | 6            |    rod     | 75           |    cat     | 5            |\n",
            "|    dog     | 4            |            |              |            |              |\n",
            "|   total    | 90           |            |              |            |              |\u001b[0m\n",
            "\u001b[32m[08/11 07:20:08 d2.data.dataset_mapper]: \u001b[0m[DatasetMapper] Augmentations used in training: [ResizeShortestEdge(short_edge_length=(640, 672, 704, 736, 768, 800), max_size=1333, sample_style='choice'), RandomFlip()]\n",
            "\u001b[32m[08/11 07:20:08 d2.data.build]: \u001b[0mUsing training sampler TrainingSampler\n",
            "\u001b[32m[08/11 07:20:08 d2.data.common]: \u001b[0mSerializing 16 elements to byte tensors and concatenating them all ...\n",
            "\u001b[32m[08/11 07:20:08 d2.data.common]: \u001b[0mSerialized dataset takes 0.01 MiB\n",
            "\u001b[32m[08/11 07:20:11 fvcore.common.checkpoint]: \u001b[0mLoading checkpoint from ./model_reset_surgery_voc.pth\n",
            "\u001b[5m\u001b[31mWARNING\u001b[0m \u001b[32m[08/11 07:20:11 fvcore.common.checkpoint]: \u001b[0mSkip loading parameter 'roi_heads.box_predictor.cls_score.weight' to the model due to incompatible shapes: (21, 1024) in the checkpoint but (5, 1024) in the model! You might want to double check if this is expected.\n",
            "\u001b[5m\u001b[31mWARNING\u001b[0m \u001b[32m[08/11 07:20:11 fvcore.common.checkpoint]: \u001b[0mSkip loading parameter 'roi_heads.box_predictor.bbox_pred.weight' to the model due to incompatible shapes: (80, 1024) in the checkpoint but (16, 1024) in the model! You might want to double check if this is expected.\n",
            "\u001b[5m\u001b[31mWARNING\u001b[0m \u001b[32m[08/11 07:20:11 fvcore.common.checkpoint]: \u001b[0mSkip loading parameter 'roi_heads.box_predictor.bbox_pred.bias' to the model due to incompatible shapes: (80,) in the checkpoint but (16,) in the model! You might want to double check if this is expected.\n",
            "\u001b[32m[08/11 07:20:11 fvcore.common.checkpoint]: \u001b[0mSome model parameters or buffers are not found in the checkpoint:\n",
            "  \u001b[34mroi_heads.box_predictor.bbox_pred.{weight, bias}\u001b[0m\n",
            "  \u001b[34mroi_heads.box_predictor.cls_score.weight\u001b[0m\n",
            "\u001b[32m[08/11 07:20:11 fvcore.common.checkpoint]: \u001b[0mThe checkpoint state_dict contains keys that are not used by the model:\n",
            "  \u001b[35mroi_heads.box_predictor.cls_score.bias\u001b[0m\n",
            "\u001b[32m[08/11 07:20:11 d2.engine.train_loop]: \u001b[0mStarting training from iteration 1\n",
            "/content/custom_fsdet/fsdet/modeling/roi_heads/fast_rcnn.py:198: UserWarning: This overload of nonzero is deprecated:\n",
            "\tnonzero()\n",
            "Consider using one of the following signatures instead:\n",
            "\tnonzero(*, bool as_tuple) (Triggered internally at  /pytorch/torch/csrc/utils/python_arg_parser.cpp:766.)\n",
            "  num_fg = fg_inds.nonzero().numel()\n",
            "\u001b[32m[08/11 07:20:41 d2.utils.events]: \u001b[0m eta: 7:05:40  iter: 19  total_loss: 1.754  loss_cls: 0.4164  loss_box_reg: 0.1772  loss_rpn_cls: 0.8581  loss_rpn_loc: 0.07613  time: 1.5460  data_time: 0.3372  lr: 0.001  max_mem: 11677M\n",
            "\u001b[32m[08/11 07:21:12 d2.utils.events]: \u001b[0m eta: 7:05:26  iter: 39  total_loss: 1.347  loss_cls: 0.2613  loss_box_reg: 0.1771  loss_rpn_cls: 0.8403  loss_rpn_loc: 0.07155  time: 1.5525  data_time: 0.3276  lr: 0.001  max_mem: 11677M\n",
            "\u001b[32m[08/11 07:21:43 d2.utils.events]: \u001b[0m eta: 7:06:55  iter: 59  total_loss: 1.39  loss_cls: 0.1893  loss_box_reg: 0.1711  loss_rpn_cls: 0.9477  loss_rpn_loc: 0.07675  time: 1.5507  data_time: 0.3168  lr: 0.001  max_mem: 11677M\n",
            "\u001b[32m[08/11 07:22:14 d2.utils.events]: \u001b[0m eta: 7:06:22  iter: 79  total_loss: 1.377  loss_cls: 0.1433  loss_box_reg: 0.1657  loss_rpn_cls: 0.9848  loss_rpn_loc: 0.07259  time: 1.5490  data_time: 0.3045  lr: 0.001  max_mem: 11677M\n",
            "\u001b[32m[08/11 07:22:45 d2.utils.events]: \u001b[0m eta: 7:06:11  iter: 99  total_loss: 1.229  loss_cls: 0.1316  loss_box_reg: 0.158  loss_rpn_cls: 0.8784  loss_rpn_loc: 0.07679  time: 1.5488  data_time: 0.3266  lr: 0.001  max_mem: 11677M\n",
            "\u001b[32m[08/11 07:23:16 d2.utils.events]: \u001b[0m eta: 7:05:52  iter: 119  total_loss: 1.25  loss_cls: 0.1251  loss_box_reg: 0.1548  loss_rpn_cls: 0.9123  loss_rpn_loc: 0.07428  time: 1.5499  data_time: 0.3251  lr: 0.001  max_mem: 11677M\n",
            "\u001b[32m[08/11 07:23:47 d2.utils.events]: \u001b[0m eta: 7:05:27  iter: 139  total_loss: 1.312  loss_cls: 0.1171  loss_box_reg: 0.1568  loss_rpn_cls: 0.9478  loss_rpn_loc: 0.07715  time: 1.5483  data_time: 0.3057  lr: 0.001  max_mem: 11677M\n",
            "\u001b[32m[08/11 07:24:18 d2.utils.events]: \u001b[0m eta: 7:05:03  iter: 159  total_loss: 1.222  loss_cls: 0.1133  loss_box_reg: 0.1525  loss_rpn_cls: 0.8706  loss_rpn_loc: 0.07249  time: 1.5496  data_time: 0.3300  lr: 0.001  max_mem: 11677M\n",
            "\u001b[32m[08/11 07:24:48 d2.utils.events]: \u001b[0m eta: 7:04:26  iter: 179  total_loss: 1.193  loss_cls: 0.107  loss_box_reg: 0.1492  loss_rpn_cls: 0.8579  loss_rpn_loc: 0.07724  time: 1.5478  data_time: 0.2988  lr: 0.001  max_mem: 11677M\n",
            "\u001b[32m[08/11 07:25:19 d2.utils.events]: \u001b[0m eta: 7:03:39  iter: 199  total_loss: 1.248  loss_cls: 0.106  loss_box_reg: 0.1474  loss_rpn_cls: 0.9231  loss_rpn_loc: 0.07683  time: 1.5463  data_time: 0.3085  lr: 0.001  max_mem: 11677M\n",
            "\u001b[32m[08/11 07:25:51 d2.utils.events]: \u001b[0m eta: 7:03:11  iter: 219  total_loss: 1.151  loss_cls: 0.09992  loss_box_reg: 0.1416  loss_rpn_cls: 0.8482  loss_rpn_loc: 0.07325  time: 1.5487  data_time: 0.3348  lr: 0.001  max_mem: 11677M\n",
            "\u001b[32m[08/11 07:26:21 d2.utils.events]: \u001b[0m eta: 7:02:05  iter: 239  total_loss: 1.248  loss_cls: 0.09729  loss_box_reg: 0.1444  loss_rpn_cls: 0.9259  loss_rpn_loc: 0.07275  time: 1.5468  data_time: 0.3111  lr: 0.001  max_mem: 11677M\n",
            "\u001b[32m[08/11 07:26:52 d2.utils.events]: \u001b[0m eta: 7:01:26  iter: 259  total_loss: 1.213  loss_cls: 0.09447  loss_box_reg: 0.1401  loss_rpn_cls: 0.8959  loss_rpn_loc: 0.07591  time: 1.5465  data_time: 0.3089  lr: 0.001  max_mem: 11677M\n",
            "\u001b[32m[08/11 07:27:23 d2.utils.events]: \u001b[0m eta: 7:00:53  iter: 279  total_loss: 1.188  loss_cls: 0.09321  loss_box_reg: 0.137  loss_rpn_cls: 0.9111  loss_rpn_loc: 0.0727  time: 1.5470  data_time: 0.3220  lr: 0.001  max_mem: 11677M\n",
            "\u001b[32m[08/11 07:27:53 d2.utils.events]: \u001b[0m eta: 7:00:02  iter: 299  total_loss: 1.216  loss_cls: 0.09205  loss_box_reg: 0.1341  loss_rpn_cls: 0.9196  loss_rpn_loc: 0.07384  time: 1.5453  data_time: 0.2876  lr: 0.001  max_mem: 11677M\n",
            "\u001b[32m[08/11 07:28:25 d2.utils.events]: \u001b[0m eta: 6:59:41  iter: 319  total_loss: 1.149  loss_cls: 0.08838  loss_box_reg: 0.1333  loss_rpn_cls: 0.8444  loss_rpn_loc: 0.07402  time: 1.5466  data_time: 0.3367  lr: 0.001  max_mem: 11677M\n",
            "\u001b[32m[08/11 07:28:56 d2.utils.events]: \u001b[0m eta: 6:59:17  iter: 339  total_loss: 1.144  loss_cls: 0.08582  loss_box_reg: 0.1289  loss_rpn_cls: 0.8541  loss_rpn_loc: 0.07295  time: 1.5474  data_time: 0.3317  lr: 0.001  max_mem: 11677M\n",
            "\u001b[32m[08/11 07:29:27 d2.utils.events]: \u001b[0m eta: 6:58:36  iter: 359  total_loss: 1.167  loss_cls: 0.08428  loss_box_reg: 0.1288  loss_rpn_cls: 0.8588  loss_rpn_loc: 0.07744  time: 1.5466  data_time: 0.3152  lr: 0.001  max_mem: 11677M\n",
            "\u001b[32m[08/11 07:29:57 d2.utils.events]: \u001b[0m eta: 6:58:03  iter: 379  total_loss: 1.244  loss_cls: 0.08348  loss_box_reg: 0.1301  loss_rpn_cls: 0.9382  loss_rpn_loc: 0.07608  time: 1.5462  data_time: 0.2994  lr: 0.001  max_mem: 11677M\n",
            "\u001b[32m[08/11 07:30:28 d2.utils.events]: \u001b[0m eta: 6:57:39  iter: 399  total_loss: 1.151  loss_cls: 0.08238  loss_box_reg: 0.1234  loss_rpn_cls: 0.8854  loss_rpn_loc: 0.07149  time: 1.5460  data_time: 0.3089  lr: 0.001  max_mem: 11677M\n",
            "\u001b[32m[08/11 07:30:59 d2.utils.events]: \u001b[0m eta: 6:56:49  iter: 419  total_loss: 1.127  loss_cls: 0.08156  loss_box_reg: 0.1246  loss_rpn_cls: 0.8713  loss_rpn_loc: 0.07091  time: 1.5453  data_time: 0.2984  lr: 0.001  max_mem: 11677M\n",
            "\u001b[32m[08/11 07:31:30 d2.utils.events]: \u001b[0m eta: 6:56:13  iter: 439  total_loss: 1.105  loss_cls: 0.0797  loss_box_reg: 0.1205  loss_rpn_cls: 0.832  loss_rpn_loc: 0.07217  time: 1.5447  data_time: 0.2994  lr: 0.001  max_mem: 11677M\n",
            "\u001b[32m[08/11 07:32:01 d2.utils.events]: \u001b[0m eta: 6:55:44  iter: 459  total_loss: 1.213  loss_cls: 0.07871  loss_box_reg: 0.1222  loss_rpn_cls: 0.9328  loss_rpn_loc: 0.0727  time: 1.5451  data_time: 0.3241  lr: 0.001  max_mem: 11677M\n",
            "\u001b[32m[08/11 07:32:32 d2.utils.events]: \u001b[0m eta: 6:55:22  iter: 479  total_loss: 1.168  loss_cls: 0.07604  loss_box_reg: 0.1175  loss_rpn_cls: 0.8942  loss_rpn_loc: 0.07535  time: 1.5454  data_time: 0.3203  lr: 0.001  max_mem: 11677M\n",
            "\u001b[32m[08/11 07:33:03 d2.utils.events]: \u001b[0m eta: 6:54:50  iter: 499  total_loss: 1.183  loss_cls: 0.07387  loss_box_reg: 0.1162  loss_rpn_cls: 0.9127  loss_rpn_loc: 0.07581  time: 1.5455  data_time: 0.3083  lr: 0.001  max_mem: 11677M\n",
            "\u001b[32m[08/11 07:33:33 d2.utils.events]: \u001b[0m eta: 6:54:09  iter: 519  total_loss: 1.085  loss_cls: 0.07455  loss_box_reg: 0.1136  loss_rpn_cls: 0.8301  loss_rpn_loc: 0.07474  time: 1.5451  data_time: 0.3005  lr: 0.001  max_mem: 11677M\n",
            "\u001b[32m[08/11 07:34:04 d2.utils.events]: \u001b[0m eta: 6:53:35  iter: 539  total_loss: 1.224  loss_cls: 0.0719  loss_box_reg: 0.1121  loss_rpn_cls: 0.9509  loss_rpn_loc: 0.0738  time: 1.5450  data_time: 0.3125  lr: 0.001  max_mem: 11677M\n",
            "\u001b[32m[08/11 07:34:35 d2.utils.events]: \u001b[0m eta: 6:53:02  iter: 559  total_loss: 1.092  loss_cls: 0.07215  loss_box_reg: 0.109  loss_rpn_cls: 0.8302  loss_rpn_loc: 0.07457  time: 1.5450  data_time: 0.3192  lr: 0.001  max_mem: 11677M\n",
            "\u001b[32m[08/11 07:35:06 d2.utils.events]: \u001b[0m eta: 6:52:30  iter: 579  total_loss: 1.197  loss_cls: 0.07373  loss_box_reg: 0.1132  loss_rpn_cls: 0.9225  loss_rpn_loc: 0.07447  time: 1.5450  data_time: 0.3196  lr: 0.001  max_mem: 11677M\n",
            "\u001b[32m[08/11 07:35:37 d2.utils.events]: \u001b[0m eta: 6:51:39  iter: 599  total_loss: 1.089  loss_cls: 0.07065  loss_box_reg: 0.1088  loss_rpn_cls: 0.8388  loss_rpn_loc: 0.07029  time: 1.5446  data_time: 0.3056  lr: 0.001  max_mem: 11677M\n",
            "\u001b[32m[08/11 07:36:07 d2.utils.events]: \u001b[0m eta: 6:51:07  iter: 619  total_loss: 1.092  loss_cls: 0.07128  loss_box_reg: 0.1079  loss_rpn_cls: 0.8538  loss_rpn_loc: 0.07483  time: 1.5441  data_time: 0.3036  lr: 0.001  max_mem: 11677M\n",
            "\u001b[32m[08/11 07:36:38 d2.utils.events]: \u001b[0m eta: 6:50:22  iter: 639  total_loss: 1.171  loss_cls: 0.07118  loss_box_reg: 0.1052  loss_rpn_cls: 0.9216  loss_rpn_loc: 0.07508  time: 1.5433  data_time: 0.2903  lr: 0.001  max_mem: 11677M\n",
            "\u001b[32m[08/11 07:37:09 d2.utils.events]: \u001b[0m eta: 6:49:45  iter: 659  total_loss: 1.098  loss_cls: 0.06892  loss_box_reg: 0.1051  loss_rpn_cls: 0.8537  loss_rpn_loc: 0.06976  time: 1.5433  data_time: 0.3135  lr: 0.001  max_mem: 11677M\n",
            "\u001b[32m[08/11 07:37:40 d2.utils.events]: \u001b[0m eta: 6:49:16  iter: 679  total_loss: 1.165  loss_cls: 0.07091  loss_box_reg: 0.1041  loss_rpn_cls: 0.9136  loss_rpn_loc: 0.07738  time: 1.5436  data_time: 0.3260  lr: 0.001  max_mem: 11677M\n",
            "\u001b[32m[08/11 07:38:11 d2.utils.events]: \u001b[0m eta: 6:48:43  iter: 699  total_loss: 1.137  loss_cls: 0.06901  loss_box_reg: 0.1041  loss_rpn_cls: 0.8883  loss_rpn_loc: 0.07405  time: 1.5436  data_time: 0.3157  lr: 0.001  max_mem: 11677M\n",
            "\u001b[32m[08/11 07:38:42 d2.utils.events]: \u001b[0m eta: 6:48:11  iter: 719  total_loss: 1.089  loss_cls: 0.06927  loss_box_reg: 0.1016  loss_rpn_cls: 0.8445  loss_rpn_loc: 0.07687  time: 1.5438  data_time: 0.3203  lr: 0.001  max_mem: 11677M\n",
            "\u001b[32m[08/11 07:39:12 d2.utils.events]: \u001b[0m eta: 6:47:23  iter: 739  total_loss: 1.186  loss_cls: 0.06849  loss_box_reg: 0.1021  loss_rpn_cls: 0.9356  loss_rpn_loc: 0.07266  time: 1.5437  data_time: 0.3155  lr: 0.001  max_mem: 11677M\n",
            "\u001b[32m[08/11 07:39:43 d2.utils.events]: \u001b[0m eta: 6:46:55  iter: 759  total_loss: 1.233  loss_cls: 0.06598  loss_box_reg: 0.1018  loss_rpn_cls: 0.9774  loss_rpn_loc: 0.07484  time: 1.5437  data_time: 0.3174  lr: 0.001  max_mem: 11677M\n",
            "\u001b[32m[08/11 07:40:14 d2.utils.events]: \u001b[0m eta: 6:46:19  iter: 779  total_loss: 1.152  loss_cls: 0.06332  loss_box_reg: 0.09481  loss_rpn_cls: 0.8965  loss_rpn_loc: 0.07381  time: 1.5439  data_time: 0.3129  lr: 0.001  max_mem: 11677M\n",
            "\u001b[32m[08/11 07:40:45 d2.utils.events]: \u001b[0m eta: 6:45:34  iter: 799  total_loss: 1.089  loss_cls: 0.06568  loss_box_reg: 0.09885  loss_rpn_cls: 0.8613  loss_rpn_loc: 0.07179  time: 1.5434  data_time: 0.3032  lr: 0.001  max_mem: 11677M\n",
            "\u001b[32m[08/11 07:41:16 d2.utils.events]: \u001b[0m eta: 6:45:10  iter: 819  total_loss: 1.193  loss_cls: 0.06648  loss_box_reg: 0.09719  loss_rpn_cls: 0.9477  loss_rpn_loc: 0.07541  time: 1.5439  data_time: 0.3220  lr: 0.001  max_mem: 11677M\n",
            "\u001b[32m[08/11 07:41:47 d2.utils.events]: \u001b[0m eta: 6:44:38  iter: 839  total_loss: 1.105  loss_cls: 0.06518  loss_box_reg: 0.09695  loss_rpn_cls: 0.8675  loss_rpn_loc: 0.07278  time: 1.5440  data_time: 0.3230  lr: 0.001  max_mem: 11677M\n",
            "\u001b[32m[08/11 07:42:18 d2.utils.events]: \u001b[0m eta: 6:44:06  iter: 859  total_loss: 1.088  loss_cls: 0.06457  loss_box_reg: 0.09418  loss_rpn_cls: 0.8655  loss_rpn_loc: 0.06978  time: 1.5438  data_time: 0.3046  lr: 0.001  max_mem: 11677M\n",
            "\u001b[32m[08/11 07:42:48 d2.utils.events]: \u001b[0m eta: 6:43:23  iter: 879  total_loss: 1.21  loss_cls: 0.06528  loss_box_reg: 0.09625  loss_rpn_cls: 0.9896  loss_rpn_loc: 0.07305  time: 1.5433  data_time: 0.2937  lr: 0.001  max_mem: 11677M\n",
            "\u001b[32m[08/11 07:43:19 d2.utils.events]: \u001b[0m eta: 6:42:50  iter: 899  total_loss: 1.057  loss_cls: 0.06286  loss_box_reg: 0.09045  loss_rpn_cls: 0.8371  loss_rpn_loc: 0.07152  time: 1.5432  data_time: 0.3032  lr: 0.001  max_mem: 11677M\n",
            "\u001b[32m[08/11 07:43:50 d2.utils.events]: \u001b[0m eta: 6:42:18  iter: 919  total_loss: 1.028  loss_cls: 0.06339  loss_box_reg: 0.09348  loss_rpn_cls: 0.8055  loss_rpn_loc: 0.06946  time: 1.5433  data_time: 0.3249  lr: 0.001  max_mem: 11677M\n",
            "\u001b[32m[08/11 07:44:21 d2.utils.events]: \u001b[0m eta: 6:41:46  iter: 939  total_loss: 1.136  loss_cls: 0.06401  loss_box_reg: 0.09127  loss_rpn_cls: 0.9077  loss_rpn_loc: 0.07629  time: 1.5433  data_time: 0.3063  lr: 0.001  max_mem: 11677M\n",
            "\u001b[32m[08/11 07:44:52 d2.utils.events]: \u001b[0m eta: 6:41:09  iter: 959  total_loss: 1.077  loss_cls: 0.06453  loss_box_reg: 0.09253  loss_rpn_cls: 0.8538  loss_rpn_loc: 0.07367  time: 1.5432  data_time: 0.3099  lr: 0.001  max_mem: 11677M\n",
            "\u001b[32m[08/11 07:45:23 d2.utils.events]: \u001b[0m eta: 6:40:42  iter: 979  total_loss: 1.163  loss_cls: 0.06339  loss_box_reg: 0.0904  loss_rpn_cls: 0.925  loss_rpn_loc: 0.07402  time: 1.5437  data_time: 0.3295  lr: 0.001  max_mem: 11677M\n",
            "\u001b[32m[08/11 07:45:54 fvcore.common.checkpoint]: \u001b[0mSaving checkpoint to /content/gdrive/MyDrive/fsdet-v/Custom-Rod/model_0000999.pth\n",
            "\u001b[32m[08/11 07:45:55 d2.utils.events]: \u001b[0m eta: 6:40:04  iter: 999  total_loss: 1.146  loss_cls: 0.0606  loss_box_reg: 0.09093  loss_rpn_cls: 0.9258  loss_rpn_loc: 0.07583  time: 1.5437  data_time: 0.3162  lr: 0.001  max_mem: 11677M\n",
            "\u001b[32m[08/11 07:46:26 d2.utils.events]: \u001b[0m eta: 6:39:32  iter: 1019  total_loss: 1.165  loss_cls: 0.06234  loss_box_reg: 0.09239  loss_rpn_cls: 0.9198  loss_rpn_loc: 0.07773  time: 1.5437  data_time: 0.3134  lr: 0.001  max_mem: 11677M\n",
            "\u001b[32m[08/11 07:46:57 d2.utils.events]: \u001b[0m eta: 6:39:01  iter: 1039  total_loss: 1.085  loss_cls: 0.0608  loss_box_reg: 0.08835  loss_rpn_cls: 0.8643  loss_rpn_loc: 0.07399  time: 1.5439  data_time: 0.3275  lr: 0.001  max_mem: 11677M\n",
            "\u001b[32m[08/11 07:47:28 d2.utils.events]: \u001b[0m eta: 6:38:29  iter: 1059  total_loss: 1.202  loss_cls: 0.05949  loss_box_reg: 0.09087  loss_rpn_cls: 0.9597  loss_rpn_loc: 0.07538  time: 1.5443  data_time: 0.3287  lr: 0.001  max_mem: 11677M\n",
            "\u001b[32m[08/11 07:48:00 d2.utils.events]: \u001b[0m eta: 6:37:56  iter: 1079  total_loss: 1.082  loss_cls: 0.05995  loss_box_reg: 0.08826  loss_rpn_cls: 0.8251  loss_rpn_loc: 0.07132  time: 1.5445  data_time: 0.3279  lr: 0.001  max_mem: 11677M\n",
            "\u001b[32m[08/11 07:48:30 d2.utils.events]: \u001b[0m eta: 6:37:21  iter: 1099  total_loss: 1.085  loss_cls: 0.0609  loss_box_reg: 0.09044  loss_rpn_cls: 0.8581  loss_rpn_loc: 0.07345  time: 1.5444  data_time: 0.3048  lr: 0.001  max_mem: 11677M\n",
            "\u001b[32m[08/11 07:49:02 d2.utils.events]: \u001b[0m eta: 6:36:43  iter: 1119  total_loss: 1.111  loss_cls: 0.06058  loss_box_reg: 0.0881  loss_rpn_cls: 0.8778  loss_rpn_loc: 0.07393  time: 1.5447  data_time: 0.3359  lr: 0.001  max_mem: 11677M\n",
            "\u001b[32m[08/11 07:49:33 d2.utils.events]: \u001b[0m eta: 6:36:05  iter: 1139  total_loss: 1.192  loss_cls: 0.06076  loss_box_reg: 0.09064  loss_rpn_cls: 0.938  loss_rpn_loc: 0.07759  time: 1.5449  data_time: 0.3092  lr: 0.001  max_mem: 11677M\n",
            "\u001b[32m[08/11 07:50:04 d2.utils.events]: \u001b[0m eta: 6:35:28  iter: 1159  total_loss: 1.028  loss_cls: 0.05846  loss_box_reg: 0.08707  loss_rpn_cls: 0.8289  loss_rpn_loc: 0.06935  time: 1.5448  data_time: 0.3118  lr: 0.001  max_mem: 11677M\n",
            "\u001b[32m[08/11 07:50:35 d2.utils.events]: \u001b[0m eta: 6:34:50  iter: 1179  total_loss: 1.08  loss_cls: 0.06054  loss_box_reg: 0.08714  loss_rpn_cls: 0.8625  loss_rpn_loc: 0.07594  time: 1.5450  data_time: 0.3162  lr: 0.001  max_mem: 11677M\n",
            "\u001b[32m[08/11 07:50:56 d2.engine.hooks]: \u001b[0mOverall training speed: 1190 iterations in 0:30:39 (1.5460 s / it)\n",
            "\u001b[32m[08/11 07:50:56 d2.engine.hooks]: \u001b[0mTotal training time: 0:30:41 (0:00:01 on hooks)\n",
            "\u001b[32m[08/11 07:50:56 d2.utils.events]: \u001b[0m eta: 6:34:39  iter: 1193  total_loss: 1.087  loss_cls: 0.05992  loss_box_reg: 0.08633  loss_rpn_cls: 0.8625  loss_rpn_loc: 0.07632  time: 1.5449  data_time: 0.3090  lr: 0.001  max_mem: 11677M\n",
            "Traceback (most recent call last):\n",
            "  File \"/usr/lib/python3.7/runpy.py\", line 193, in _run_module_as_main\n",
            "    \"__main__\", mod_spec)\n",
            "  File \"/usr/lib/python3.7/runpy.py\", line 85, in _run_code\n",
            "    exec(code, run_globals)\n",
            "  File \"/content/custom_fsdet/tools/train_net.py\", line 126, in <module>\n",
            "    args=(args,),\n",
            "  File \"/usr/local/lib/python3.7/dist-packages/detectron2/engine/launch.py\", line 62, in launch\n",
            "    main_func(*args)\n",
            "  File \"/content/custom_fsdet/tools/train_net.py\", line 114, in main\n",
            "    return trainer.train()\n",
            "  File \"/content/custom_fsdet/fsdet/engine/defaults.py\", line 444, in train\n",
            "    super().train(self.start_iter, self.max_iter)\n",
            "  File \"/usr/local/lib/python3.7/dist-packages/detectron2/engine/train_loop.py\", line 134, in train\n",
            "    self.run_step()\n",
            "  File \"/usr/local/lib/python3.7/dist-packages/detectron2/engine/train_loop.py\", line 228, in run_step\n",
            "    loss_dict = self.model(data)\n",
            "  File \"/usr/local/lib/python3.7/dist-packages/torch/nn/modules/module.py\", line 722, in _call_impl\n",
            "    result = self.forward(*input, **kwargs)\n",
            "  File \"/content/custom_fsdet/fsdet/modeling/meta_arch/rcnn.py\", line 115, in forward\n",
            "    images, features, gt_instances\n",
            "  File \"/usr/local/lib/python3.7/dist-packages/torch/nn/modules/module.py\", line 722, in _call_impl\n",
            "    result = self.forward(*input, **kwargs)\n",
            "  File \"/usr/local/lib/python3.7/dist-packages/detectron2/modeling/proposal_generator/rpn.py\", line 442, in forward\n",
            "    gt_labels, gt_boxes = self.label_and_sample_anchors(anchors, gt_instances)\n",
            "  File \"/usr/local/lib/python3.7/dist-packages/torch/autograd/grad_mode.py\", line 15, in decorate_context\n",
            "    return func(*args, **kwargs)\n",
            "  File \"/usr/local/lib/python3.7/dist-packages/detectron2/modeling/proposal_generator/rpn.py\", line 302, in label_and_sample_anchors\n",
            "    matched_idxs, gt_labels_i = retry_if_cuda_oom(self.anchor_matcher)(match_quality_matrix)\n",
            "  File \"/usr/local/lib/python3.7/dist-packages/detectron2/utils/memory.py\", line 70, in wrapped\n",
            "    return func(*args, **kwargs)\n",
            "  File \"/usr/local/lib/python3.7/dist-packages/detectron2/modeling/matcher.py\", line 88, in __call__\n",
            "    assert torch.all(match_quality_matrix >= 0)\n",
            "KeyboardInterrupt\n"
          ]
        }
      ],
      "source": [
        "!python3 -m tools.train_net --num-gpus 1 \\\n",
        "    --config-file configs/Custom-Rod/custom_rod_train_all.yaml \\\n",
        "    --opts MODEL.WEIGHTS ./model_reset_surgery_voc.pth"
      ]
    }
  ],
  "metadata": {
    "accelerator": "GPU",
    "colab": {
      "collapsed_sections": [],
      "name": "Custom_Rod_All.ipynb",
      "provenance": [],
      "machine_shape": "hm"
    },
    "gpuClass": "standard",
    "kernelspec": {
      "display_name": "Python 3",
      "name": "python3"
    },
    "language_info": {
      "name": "python"
    }
  },
  "nbformat": 4,
  "nbformat_minor": 0
}